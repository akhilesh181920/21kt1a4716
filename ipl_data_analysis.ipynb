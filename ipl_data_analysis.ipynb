{
  "nbformat": 4,
  "nbformat_minor": 0,
  "metadata": {
    "colab": {
      "provenance": [],
      "authorship_tag": "ABX9TyPYDiD/dWLbKtWH3Kk1w04J",
      "include_colab_link": true
    },
    "kernelspec": {
      "name": "python3",
      "display_name": "Python 3"
    },
    "language_info": {
      "name": "python"
    }
  },
  "cells": [
    {
      "cell_type": "markdown",
      "metadata": {
        "id": "view-in-github",
        "colab_type": "text"
      },
      "source": [
        "<a href=\"https://colab.research.google.com/github/akhilesh181920/21kt1a4716/blob/main/ipl_data_analysis.ipynb\" target=\"_parent\"><img src=\"https://colab.research.google.com/assets/colab-badge.svg\" alt=\"Open In Colab\"/></a>"
      ]
    },
    {
      "cell_type": "code",
      "execution_count": 1,
      "metadata": {
        "colab": {
          "base_uri": "https://localhost:8080/",
          "height": 246
        },
        "id": "S8j1lCqy3vta",
        "outputId": "7fbbbd0f-0153-45dd-d247-c58a6a867fd4"
      },
      "outputs": [
        {
          "output_type": "display_data",
          "data": {
            "text/plain": [
              "<IPython.core.display.HTML object>"
            ],
            "text/html": [
              "\n",
              "     <input type=\"file\" id=\"files-f535a3f1-a2fe-41ab-95c4-7ff823d162e1\" name=\"files[]\" multiple disabled\n",
              "        style=\"border:none\" />\n",
              "     <output id=\"result-f535a3f1-a2fe-41ab-95c4-7ff823d162e1\">\n",
              "      Upload widget is only available when the cell has been executed in the\n",
              "      current browser session. Please rerun this cell to enable.\n",
              "      </output>\n",
              "      <script>// Copyright 2017 Google LLC\n",
              "//\n",
              "// Licensed under the Apache License, Version 2.0 (the \"License\");\n",
              "// you may not use this file except in compliance with the License.\n",
              "// You may obtain a copy of the License at\n",
              "//\n",
              "//      http://www.apache.org/licenses/LICENSE-2.0\n",
              "//\n",
              "// Unless required by applicable law or agreed to in writing, software\n",
              "// distributed under the License is distributed on an \"AS IS\" BASIS,\n",
              "// WITHOUT WARRANTIES OR CONDITIONS OF ANY KIND, either express or implied.\n",
              "// See the License for the specific language governing permissions and\n",
              "// limitations under the License.\n",
              "\n",
              "/**\n",
              " * @fileoverview Helpers for google.colab Python module.\n",
              " */\n",
              "(function(scope) {\n",
              "function span(text, styleAttributes = {}) {\n",
              "  const element = document.createElement('span');\n",
              "  element.textContent = text;\n",
              "  for (const key of Object.keys(styleAttributes)) {\n",
              "    element.style[key] = styleAttributes[key];\n",
              "  }\n",
              "  return element;\n",
              "}\n",
              "\n",
              "// Max number of bytes which will be uploaded at a time.\n",
              "const MAX_PAYLOAD_SIZE = 100 * 1024;\n",
              "\n",
              "function _uploadFiles(inputId, outputId) {\n",
              "  const steps = uploadFilesStep(inputId, outputId);\n",
              "  const outputElement = document.getElementById(outputId);\n",
              "  // Cache steps on the outputElement to make it available for the next call\n",
              "  // to uploadFilesContinue from Python.\n",
              "  outputElement.steps = steps;\n",
              "\n",
              "  return _uploadFilesContinue(outputId);\n",
              "}\n",
              "\n",
              "// This is roughly an async generator (not supported in the browser yet),\n",
              "// where there are multiple asynchronous steps and the Python side is going\n",
              "// to poll for completion of each step.\n",
              "// This uses a Promise to block the python side on completion of each step,\n",
              "// then passes the result of the previous step as the input to the next step.\n",
              "function _uploadFilesContinue(outputId) {\n",
              "  const outputElement = document.getElementById(outputId);\n",
              "  const steps = outputElement.steps;\n",
              "\n",
              "  const next = steps.next(outputElement.lastPromiseValue);\n",
              "  return Promise.resolve(next.value.promise).then((value) => {\n",
              "    // Cache the last promise value to make it available to the next\n",
              "    // step of the generator.\n",
              "    outputElement.lastPromiseValue = value;\n",
              "    return next.value.response;\n",
              "  });\n",
              "}\n",
              "\n",
              "/**\n",
              " * Generator function which is called between each async step of the upload\n",
              " * process.\n",
              " * @param {string} inputId Element ID of the input file picker element.\n",
              " * @param {string} outputId Element ID of the output display.\n",
              " * @return {!Iterable<!Object>} Iterable of next steps.\n",
              " */\n",
              "function* uploadFilesStep(inputId, outputId) {\n",
              "  const inputElement = document.getElementById(inputId);\n",
              "  inputElement.disabled = false;\n",
              "\n",
              "  const outputElement = document.getElementById(outputId);\n",
              "  outputElement.innerHTML = '';\n",
              "\n",
              "  const pickedPromise = new Promise((resolve) => {\n",
              "    inputElement.addEventListener('change', (e) => {\n",
              "      resolve(e.target.files);\n",
              "    });\n",
              "  });\n",
              "\n",
              "  const cancel = document.createElement('button');\n",
              "  inputElement.parentElement.appendChild(cancel);\n",
              "  cancel.textContent = 'Cancel upload';\n",
              "  const cancelPromise = new Promise((resolve) => {\n",
              "    cancel.onclick = () => {\n",
              "      resolve(null);\n",
              "    };\n",
              "  });\n",
              "\n",
              "  // Wait for the user to pick the files.\n",
              "  const files = yield {\n",
              "    promise: Promise.race([pickedPromise, cancelPromise]),\n",
              "    response: {\n",
              "      action: 'starting',\n",
              "    }\n",
              "  };\n",
              "\n",
              "  cancel.remove();\n",
              "\n",
              "  // Disable the input element since further picks are not allowed.\n",
              "  inputElement.disabled = true;\n",
              "\n",
              "  if (!files) {\n",
              "    return {\n",
              "      response: {\n",
              "        action: 'complete',\n",
              "      }\n",
              "    };\n",
              "  }\n",
              "\n",
              "  for (const file of files) {\n",
              "    const li = document.createElement('li');\n",
              "    li.append(span(file.name, {fontWeight: 'bold'}));\n",
              "    li.append(span(\n",
              "        `(${file.type || 'n/a'}) - ${file.size} bytes, ` +\n",
              "        `last modified: ${\n",
              "            file.lastModifiedDate ? file.lastModifiedDate.toLocaleDateString() :\n",
              "                                    'n/a'} - `));\n",
              "    const percent = span('0% done');\n",
              "    li.appendChild(percent);\n",
              "\n",
              "    outputElement.appendChild(li);\n",
              "\n",
              "    const fileDataPromise = new Promise((resolve) => {\n",
              "      const reader = new FileReader();\n",
              "      reader.onload = (e) => {\n",
              "        resolve(e.target.result);\n",
              "      };\n",
              "      reader.readAsArrayBuffer(file);\n",
              "    });\n",
              "    // Wait for the data to be ready.\n",
              "    let fileData = yield {\n",
              "      promise: fileDataPromise,\n",
              "      response: {\n",
              "        action: 'continue',\n",
              "      }\n",
              "    };\n",
              "\n",
              "    // Use a chunked sending to avoid message size limits. See b/62115660.\n",
              "    let position = 0;\n",
              "    do {\n",
              "      const length = Math.min(fileData.byteLength - position, MAX_PAYLOAD_SIZE);\n",
              "      const chunk = new Uint8Array(fileData, position, length);\n",
              "      position += length;\n",
              "\n",
              "      const base64 = btoa(String.fromCharCode.apply(null, chunk));\n",
              "      yield {\n",
              "        response: {\n",
              "          action: 'append',\n",
              "          file: file.name,\n",
              "          data: base64,\n",
              "        },\n",
              "      };\n",
              "\n",
              "      let percentDone = fileData.byteLength === 0 ?\n",
              "          100 :\n",
              "          Math.round((position / fileData.byteLength) * 100);\n",
              "      percent.textContent = `${percentDone}% done`;\n",
              "\n",
              "    } while (position < fileData.byteLength);\n",
              "  }\n",
              "\n",
              "  // All done.\n",
              "  yield {\n",
              "    response: {\n",
              "      action: 'complete',\n",
              "    }\n",
              "  };\n",
              "}\n",
              "\n",
              "scope.google = scope.google || {};\n",
              "scope.google.colab = scope.google.colab || {};\n",
              "scope.google.colab._files = {\n",
              "  _uploadFiles,\n",
              "  _uploadFilesContinue,\n",
              "};\n",
              "})(self);\n",
              "</script> "
            ]
          },
          "metadata": {}
        },
        {
          "output_type": "stream",
          "name": "stdout",
          "text": [
            "Saving deliveries.csv to deliveries.csv\n",
            "Saving matches.csv to matches.csv\n",
            "Saving most_runs_average_strikerate.csv to most_runs_average_strikerate.csv\n",
            "Saving Players.xlsx to Players.xlsx\n",
            "Saving teams.csv to teams.csv\n",
            "Saving teamwise_home_and_away.csv to teamwise_home_and_away.csv\n"
          ]
        }
      ],
      "source": [
        "from google.colab import files\n",
        "uploaded=files.upload()\n"
      ]
    },
    {
      "cell_type": "code",
      "source": [
        "import pandas as pd\n",
        "matches=pd.read_csv(\"matches.csv\")\n",
        "deliveries=pd.read_csv(\"deliveries.csv\")\n",
        "print(matches.head())\n",
        "print(matches.info())\n",
        "print(deliveries.head())"
      ],
      "metadata": {
        "colab": {
          "base_uri": "https://localhost:8080/"
        },
        "id": "lXKC4Ht2895B",
        "outputId": "c373de35-3d87-4ea9-9a69-6858ae934222"
      },
      "execution_count": 2,
      "outputs": [
        {
          "output_type": "stream",
          "name": "stdout",
          "text": [
            "   id    Season       city        date                        team1  \\\n",
            "0   1  IPL-2017  Hyderabad  05-04-2017          Sunrisers Hyderabad   \n",
            "1   2  IPL-2017       Pune  06-04-2017               Mumbai Indians   \n",
            "2   3  IPL-2017     Rajkot  07-04-2017                Gujarat Lions   \n",
            "3   4  IPL-2017     Indore  08-04-2017       Rising Pune Supergiant   \n",
            "4   5  IPL-2017  Bangalore  08-04-2017  Royal Challengers Bangalore   \n",
            "\n",
            "                         team2                  toss_winner toss_decision  \\\n",
            "0  Royal Challengers Bangalore  Royal Challengers Bangalore         field   \n",
            "1       Rising Pune Supergiant       Rising Pune Supergiant         field   \n",
            "2        Kolkata Knight Riders        Kolkata Knight Riders         field   \n",
            "3              Kings XI Punjab              Kings XI Punjab         field   \n",
            "4             Delhi Daredevils  Royal Challengers Bangalore           bat   \n",
            "\n",
            "   result  dl_applied                       winner  win_by_runs  \\\n",
            "0  normal           0          Sunrisers Hyderabad           35   \n",
            "1  normal           0       Rising Pune Supergiant            0   \n",
            "2  normal           0        Kolkata Knight Riders            0   \n",
            "3  normal           0              Kings XI Punjab            0   \n",
            "4  normal           0  Royal Challengers Bangalore           15   \n",
            "\n",
            "   win_by_wickets player_of_match                                      venue  \\\n",
            "0               0    Yuvraj Singh  Rajiv Gandhi International Stadium, Uppal   \n",
            "1               7       SPD Smith    Maharashtra Cricket Association Stadium   \n",
            "2              10         CA Lynn     Saurashtra Cricket Association Stadium   \n",
            "3               6      GJ Maxwell                     Holkar Cricket Stadium   \n",
            "4               0       KM Jadhav                      M Chinnaswamy Stadium   \n",
            "\n",
            "          umpire1        umpire2 umpire3  \n",
            "0     AY Dandekar       NJ Llong     NaN  \n",
            "1  A Nand Kishore         S Ravi     NaN  \n",
            "2     Nitin Menon      CK Nandan     NaN  \n",
            "3    AK Chaudhary  C Shamshuddin     NaN  \n",
            "4             NaN            NaN     NaN  \n",
            "<class 'pandas.core.frame.DataFrame'>\n",
            "RangeIndex: 756 entries, 0 to 755\n",
            "Data columns (total 18 columns):\n",
            " #   Column           Non-Null Count  Dtype \n",
            "---  ------           --------------  ----- \n",
            " 0   id               756 non-null    int64 \n",
            " 1   Season           756 non-null    object\n",
            " 2   city             749 non-null    object\n",
            " 3   date             756 non-null    object\n",
            " 4   team1            756 non-null    object\n",
            " 5   team2            756 non-null    object\n",
            " 6   toss_winner      756 non-null    object\n",
            " 7   toss_decision    756 non-null    object\n",
            " 8   result           756 non-null    object\n",
            " 9   dl_applied       756 non-null    int64 \n",
            " 10  winner           752 non-null    object\n",
            " 11  win_by_runs      756 non-null    int64 \n",
            " 12  win_by_wickets   756 non-null    int64 \n",
            " 13  player_of_match  752 non-null    object\n",
            " 14  venue            756 non-null    object\n",
            " 15  umpire1          754 non-null    object\n",
            " 16  umpire2          754 non-null    object\n",
            " 17  umpire3          119 non-null    object\n",
            "dtypes: int64(4), object(14)\n",
            "memory usage: 106.4+ KB\n",
            "None\n",
            "   match_id  inning         batting_team                 bowling_team  over  \\\n",
            "0         1       1  Sunrisers Hyderabad  Royal Challengers Bangalore     1   \n",
            "1         1       1  Sunrisers Hyderabad  Royal Challengers Bangalore     1   \n",
            "2         1       1  Sunrisers Hyderabad  Royal Challengers Bangalore     1   \n",
            "3         1       1  Sunrisers Hyderabad  Royal Challengers Bangalore     1   \n",
            "4         1       1  Sunrisers Hyderabad  Royal Challengers Bangalore     1   \n",
            "\n",
            "   ball    batsman non_striker    bowler  is_super_over  ...  bye_runs  \\\n",
            "0     1  DA Warner    S Dhawan  TS Mills              0  ...         0   \n",
            "1     2  DA Warner    S Dhawan  TS Mills              0  ...         0   \n",
            "2     3  DA Warner    S Dhawan  TS Mills              0  ...         0   \n",
            "3     4  DA Warner    S Dhawan  TS Mills              0  ...         0   \n",
            "4     5  DA Warner    S Dhawan  TS Mills              0  ...         0   \n",
            "\n",
            "   legbye_runs  noball_runs  penalty_runs  batsman_runs  extra_runs  \\\n",
            "0            0            0             0             0           0   \n",
            "1            0            0             0             0           0   \n",
            "2            0            0             0             4           0   \n",
            "3            0            0             0             0           0   \n",
            "4            0            0             0             0           2   \n",
            "\n",
            "   total_runs  player_dismissed dismissal_kind fielder  \n",
            "0           0               NaN            NaN     NaN  \n",
            "1           0               NaN            NaN     NaN  \n",
            "2           4               NaN            NaN     NaN  \n",
            "3           0               NaN            NaN     NaN  \n",
            "4           2               NaN            NaN     NaN  \n",
            "\n",
            "[5 rows x 21 columns]\n"
          ]
        }
      ]
    },
    {
      "cell_type": "code",
      "source": [
        "   #added a new coloumn of total_matches_played in the entire ipl history\n",
        "\n",
        "from ast import Index\n",
        "import pandas as pd\n",
        "total_matches_played=pd.read_csv(\"teamwise_home_and_away.csv\")\n",
        "total_matches_played[\"Total matches played\"]=total_matches_played[\"home_matches\"]+total_matches_played[\"away_matches\"]\n",
        "print(total_matches_played)\n",
        "total_matches_played.to_csv(\"teamwise_home_and_away.csv\",index=True)"
      ],
      "metadata": {
        "colab": {
          "base_uri": "https://localhost:8080/"
        },
        "id": "DLBGRdoG_fnn",
        "outputId": "1bb24adb-c689-4695-99d0-c758cc0ee56e"
      },
      "execution_count": 17,
      "outputs": [
        {
          "output_type": "stream",
          "name": "stdout",
          "text": [
            "    Unnamed: 0                         team  home_wins  away_wins  \\\n",
            "0            0       Rising Pune Supergiant          5          5   \n",
            "1            1               Mumbai Indians         58         51   \n",
            "2            2          Chennai Super Kings         51         49   \n",
            "3            3               Delhi Capitals          3          7   \n",
            "4            4          Sunrisers Hyderabad         30         28   \n",
            "5            5             Rajasthan Royals         29         46   \n",
            "6            6              Deccan Chargers         18         11   \n",
            "7            7              Kings XI Punjab         38         44   \n",
            "8            8  Royal Challengers Bangalore         35         49   \n",
            "9            9        Kolkata Knight Riders         34         58   \n",
            "10          10             Delhi Daredevils         25         42   \n",
            "11          11                Pune Warriors          6          6   \n",
            "12          12         Kochi Tuskers Kerala          2          4   \n",
            "13          13                Gujarat Lions          1         12   \n",
            "\n",
            "    home_matches  away_matches  home_win_percentage  away_win_percentage  \\\n",
            "0              8             8            62.500000            62.500000   \n",
            "1            101            86            57.425743            59.302326   \n",
            "2             89            75            57.303371            65.333333   \n",
            "3              6            10            50.000000            70.000000   \n",
            "4             63            45            47.619048            62.222222   \n",
            "5             67            80            43.283582            57.500000   \n",
            "6             43            32            41.860465            34.375000   \n",
            "7             91            85            41.758242            51.764706   \n",
            "8             85            95            41.176471            51.578947   \n",
            "9             83            95            40.963855            61.052632   \n",
            "10            72            89            34.722222            47.191011   \n",
            "11            20            26            30.000000            23.076923   \n",
            "12             7             7            28.571429            57.142857   \n",
            "13            14            16             7.142857            75.000000   \n",
            "\n",
            "    Total matches played  \n",
            "0                     16  \n",
            "1                    187  \n",
            "2                    164  \n",
            "3                     16  \n",
            "4                    108  \n",
            "5                    147  \n",
            "6                     75  \n",
            "7                    176  \n",
            "8                    180  \n",
            "9                    178  \n",
            "10                   161  \n",
            "11                    46  \n",
            "12                    14  \n",
            "13                    30  \n"
          ]
        }
      ]
    },
    {
      "cell_type": "code",
      "source": [
        "          #matches per season till 2019\n",
        "\n",
        "import pandas as pd\n",
        "matches_per_season=pd.read_csv(\"matches.csv\")\n",
        "matches_per_season=matches['Season'].value_counts().sort_index()\n",
        "print(matches_per_season)"
      ],
      "metadata": {
        "colab": {
          "base_uri": "https://localhost:8080/"
        },
        "id": "6hY40ebzDOYN",
        "outputId": "be793c1f-b798-4dcd-bb8e-82c4d91f3021"
      },
      "execution_count": 16,
      "outputs": [
        {
          "output_type": "stream",
          "name": "stdout",
          "text": [
            "Season\n",
            "IPL-2008    58\n",
            "IPL-2009    57\n",
            "IPL-2010    60\n",
            "IPL-2011    73\n",
            "IPL-2012    74\n",
            "IPL-2013    76\n",
            "IPL-2014    60\n",
            "IPL-2015    59\n",
            "IPL-2016    60\n",
            "IPL-2017    59\n",
            "IPL-2018    60\n",
            "IPL-2019    60\n",
            "Name: count, dtype: int64\n"
          ]
        }
      ]
    },
    {
      "cell_type": "code",
      "source": [
        "# most sucessfull team\n",
        "\n",
        "import pandas as pd\n",
        "most_sucessful_team=pd.read_csv(\"matches.csv\")\n",
        "most_wins = matches['winner'].value_counts()\n",
        "print(most_wins)\n"
      ],
      "metadata": {
        "colab": {
          "base_uri": "https://localhost:8080/"
        },
        "id": "GAb0NWq_E6Oy",
        "outputId": "cf6c41cf-0437-4158-a126-8479ecc780ba"
      },
      "execution_count": 22,
      "outputs": [
        {
          "output_type": "stream",
          "name": "stdout",
          "text": [
            "winner\n",
            "Mumbai Indians                 109\n",
            "Chennai Super Kings            100\n",
            "Kolkata Knight Riders           92\n",
            "Royal Challengers Bangalore     84\n",
            "Kings XI Punjab                 82\n",
            "Rajasthan Royals                75\n",
            "Delhi Daredevils                67\n",
            "Sunrisers Hyderabad             58\n",
            "Deccan Chargers                 29\n",
            "Gujarat Lions                   13\n",
            "Pune Warriors                   12\n",
            "Rising Pune Supergiant          10\n",
            "Delhi Capitals                  10\n",
            "Kochi Tuskers Kerala             6\n",
            "Rising Pune Supergiants          5\n",
            "Name: count, dtype: int64\n"
          ]
        }
      ]
    },
    {
      "cell_type": "code",
      "source": [
        " #most player of the match awards\n",
        "import pandas as pd\n",
        "most_player_of_match=pd.read_csv(\"matches.csv\")\n",
        "most_player_of_match=matches['player_of_match'].value_counts()\n",
        "print(most_player_of_match)"
      ],
      "metadata": {
        "colab": {
          "base_uri": "https://localhost:8080/"
        },
        "id": "_14E4Yf-LcRY",
        "outputId": "f3a51626-a924-479c-b672-e60c9f707ffe"
      },
      "execution_count": 23,
      "outputs": [
        {
          "output_type": "stream",
          "name": "stdout",
          "text": [
            "player_of_match\n",
            "CH Gayle          21\n",
            "AB de Villiers    20\n",
            "MS Dhoni          17\n",
            "RG Sharma         17\n",
            "DA Warner         17\n",
            "                  ..\n",
            "Imran Tahir        1\n",
            "K Paul             1\n",
            "K Ahmed            1\n",
            "S Gill             1\n",
            "S Hetmyer          1\n",
            "Name: count, Length: 226, dtype: int64\n"
          ]
        }
      ]
    },
    {
      "cell_type": "code",
      "source": [
        "#top batsman\n",
        "\n",
        "import pandas as pd\n",
        "top_batsman=pd.read_csv(\"deliveries.csv\")\n",
        "top_batsman=deliveries.groupby('batsman')['batsman_runs'].sum().sort_values(ascending=False)\n",
        "print(top_batsman)"
      ],
      "metadata": {
        "colab": {
          "base_uri": "https://localhost:8080/"
        },
        "id": "08kPbDMhMQew",
        "outputId": "b15f3dcf-60d0-4c69-913b-9867b9997124"
      },
      "execution_count": 24,
      "outputs": [
        {
          "output_type": "stream",
          "name": "stdout",
          "text": [
            "batsman\n",
            "V Kohli           5434\n",
            "SK Raina          5415\n",
            "RG Sharma         4914\n",
            "DA Warner         4741\n",
            "S Dhawan          4632\n",
            "                  ... \n",
            "S Lamichhane         0\n",
            "Sunny Gupta          0\n",
            "Abdur Razzak         0\n",
            "U Kaul               0\n",
            "V Pratap Singh       0\n",
            "Name: batsman_runs, Length: 516, dtype: int64\n"
          ]
        }
      ]
    },
    {
      "cell_type": "code",
      "source": [
        "#highest strike rate batsman\n",
        "\n",
        "import pandas as pd\n",
        "batsman_stats=pd.read_csv(\"deliveries.csv\")\n",
        "batsman_stats = deliveries.groupby('batsman').agg({\n",
        "    'batsman_runs': 'sum',\n",
        "    'ball': 'count'\n",
        "})\n",
        "batsman_stats['strike_rate'] = (batsman_stats['batsman_runs'] / batsman_stats['ball']) * 100\n",
        "qualified = batsman_stats[batsman_stats['ball'] >= 200].sort_values('strike_rate', ascending=False).head(10)\n",
        "print(qualified[['strike_rate']])\n"
      ],
      "metadata": {
        "colab": {
          "base_uri": "https://localhost:8080/"
        },
        "id": "QIZEvHjOMsh9",
        "outputId": "86b30a8b-5c1d-4f41-9508-0cb3d7b6f3f5"
      },
      "execution_count": 25,
      "outputs": [
        {
          "output_type": "stream",
          "name": "stdout",
          "text": [
            "                strike_rate\n",
            "batsman                    \n",
            "AD Russell       179.950187\n",
            "SP Narine        166.943867\n",
            "RR Pant          162.318841\n",
            "J Bairstow       159.726962\n",
            "GJ Maxwell       155.543237\n",
            "CH Morris        153.392330\n",
            "HH Pandya        151.902174\n",
            "JC Buttler       150.000000\n",
            "V Sehwag         148.827059\n",
            "AB de Villiers   148.740343\n"
          ]
        }
      ]
    }
  ]
}